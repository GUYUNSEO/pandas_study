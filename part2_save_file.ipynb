{
 "cells": [
  {
   "cell_type": "code",
   "execution_count": 1,
   "id": "d62142e4-db39-4fa5-87e6-4cddb8b9c0ea",
   "metadata": {},
   "outputs": [
    {
     "data": {
      "text/html": [
       "<div>\n",
       "<style scoped>\n",
       "    .dataframe tbody tr th:only-of-type {\n",
       "        vertical-align: middle;\n",
       "    }\n",
       "\n",
       "    .dataframe tbody tr th {\n",
       "        vertical-align: top;\n",
       "    }\n",
       "\n",
       "    .dataframe thead th {\n",
       "        text-align: right;\n",
       "    }\n",
       "</style>\n",
       "<table border=\"1\" class=\"dataframe\">\n",
       "  <thead>\n",
       "    <tr style=\"text-align: right;\">\n",
       "      <th></th>\n",
       "      <th>algol</th>\n",
       "      <th>basic</th>\n",
       "      <th>C++</th>\n",
       "    </tr>\n",
       "    <tr>\n",
       "      <th>name</th>\n",
       "      <th></th>\n",
       "      <th></th>\n",
       "      <th></th>\n",
       "    </tr>\n",
       "  </thead>\n",
       "  <tbody>\n",
       "    <tr>\n",
       "      <th>jerry</th>\n",
       "      <td>A</td>\n",
       "      <td>c</td>\n",
       "      <td>B+</td>\n",
       "    </tr>\n",
       "    <tr>\n",
       "      <th>Rich</th>\n",
       "      <td>A+</td>\n",
       "      <td>B</td>\n",
       "      <td>C</td>\n",
       "    </tr>\n",
       "    <tr>\n",
       "      <th>Paul</th>\n",
       "      <td>B</td>\n",
       "      <td>B+</td>\n",
       "      <td>C+</td>\n",
       "    </tr>\n",
       "  </tbody>\n",
       "</table>\n",
       "</div>"
      ],
      "text/plain": [
       "      algol basic C++\n",
       "name                 \n",
       "jerry     A     c  B+\n",
       "Rich     A+     B   C\n",
       "Paul      B    B+  C+"
      ]
     },
     "execution_count": 1,
     "metadata": {},
     "output_type": "execute_result"
    }
   ],
   "source": [
    "#117p\n",
    "\n",
    "import pandas as pd\n",
    "data = {'name': ['jerry', 'Rich', 'Paul'],\n",
    "        'algol' : ['A', 'A+', 'B'],\n",
    "        'basic':['c','B','B+'],\n",
    "        'C++':['B+','C','C+'] }\n",
    "df = pd.DataFrame( data )\n",
    "df = df.set_index('name')\n",
    "df"
   ]
  },
  {
   "cell_type": "code",
   "execution_count": 5,
   "id": "f27f6aa6-267d-4d5e-b666-ee779f118aa3",
   "metadata": {},
   "outputs": [],
   "source": [
    "df.to_csv('./data/df_sample_0423.csv')                                                                                                \n",
    "df.to_csv('./data/df_sample_0423_index_false.csv', index=False)"
   ]
  },
  {
   "cell_type": "code",
   "execution_count": 6,
   "id": "9befffca-bc3e-4300-96a1-36bd3a8fd678",
   "metadata": {},
   "outputs": [
    {
     "data": {
      "text/html": [
       "<div>\n",
       "<style scoped>\n",
       "    .dataframe tbody tr th:only-of-type {\n",
       "        vertical-align: middle;\n",
       "    }\n",
       "\n",
       "    .dataframe tbody tr th {\n",
       "        vertical-align: top;\n",
       "    }\n",
       "\n",
       "    .dataframe thead th {\n",
       "        text-align: right;\n",
       "    }\n",
       "</style>\n",
       "<table border=\"1\" class=\"dataframe\">\n",
       "  <thead>\n",
       "    <tr style=\"text-align: right;\">\n",
       "      <th></th>\n",
       "      <th>algol</th>\n",
       "      <th>basic</th>\n",
       "      <th>C++</th>\n",
       "    </tr>\n",
       "    <tr>\n",
       "      <th>name</th>\n",
       "      <th></th>\n",
       "      <th></th>\n",
       "      <th></th>\n",
       "    </tr>\n",
       "  </thead>\n",
       "  <tbody>\n",
       "    <tr>\n",
       "      <th>jerry</th>\n",
       "      <td>A</td>\n",
       "      <td>c</td>\n",
       "      <td>B+</td>\n",
       "    </tr>\n",
       "    <tr>\n",
       "      <th>Rich</th>\n",
       "      <td>A+</td>\n",
       "      <td>B</td>\n",
       "      <td>C</td>\n",
       "    </tr>\n",
       "    <tr>\n",
       "      <th>Paul</th>\n",
       "      <td>B</td>\n",
       "      <td>B+</td>\n",
       "      <td>C+</td>\n",
       "    </tr>\n",
       "  </tbody>\n",
       "</table>\n",
       "</div>"
      ],
      "text/plain": [
       "      algol basic C++\n",
       "name                 \n",
       "jerry     A     c  B+\n",
       "Rich     A+     B   C\n",
       "Paul      B    B+  C+"
      ]
     },
     "execution_count": 6,
     "metadata": {},
     "output_type": "execute_result"
    }
   ],
   "source": [
    "#119\n",
    "\n",
    "import pandas as pd\n",
    "data = {'name': ['jerry', 'Rich', 'Paul'],\n",
    "        'algol' : ['A', 'A+', 'B'],\n",
    "        'basic':['c','B','B+'],\n",
    "        'C++':['B+','C','C+'] }\n",
    "df = pd.DataFrame( data )\n",
    "df = df.set_index('name')\n",
    "df"
   ]
  },
  {
   "cell_type": "code",
   "execution_count": 8,
   "id": "7208a301-51f6-4c85-82ce-f515d3c126e9",
   "metadata": {},
   "outputs": [],
   "source": [
    "df.to_json('./data/df_sample_0423_basic.json' )"
   ]
  },
  {
   "cell_type": "code",
   "execution_count": 9,
   "id": "693c0020-3f31-42fb-a3fd-798b7dfbfdba",
   "metadata": {},
   "outputs": [],
   "source": [
    "df.to_json('./data/df_sample_0423_split.json', orient = 'split' )\n",
    "# index, columns, data로 분리해서 json으로 저장한다.\n"
   ]
  },
  {
   "cell_type": "code",
   "execution_count": 10,
   "id": "70b88888-5776-45b4-8de3-e883e3db82c7",
   "metadata": {},
   "outputs": [],
   "source": [
    "df.to_json('./data/df_sample_0423_records', orient = 'records') \n",
    "# 각행을 별도의 로 저장한다.\n"
   ]
  },
  {
   "cell_type": "markdown",
   "id": "4c5363c7-c548-4e67-aecd-0c58db71185f",
   "metadata": {},
   "source": [
    "# 엑셀 파일로 저장하기\n",
    "p.122"
   ]
  },
  {
   "cell_type": "code",
   "execution_count": 17,
   "id": "bb30ae57-8219-48f0-ad4a-26d705471d80",
   "metadata": {},
   "outputs": [
    {
     "name": "stdout",
     "output_type": "stream",
     "text": [
      "      algol basic c++\n",
      "name                 \n",
      "Jerry     A     C  B+\n",
      "Riah     A+     B   C\n",
      "Paul      B    B+  C+\n",
      "\n",
      "\n"
     ]
    }
   ],
   "source": [
    "import pandas as pd\n",
    "\n",
    "# 판다스 DataFrame() 함수로 데이터프레임 변환. 변수 df1, df2에 저장 \n",
    "data1 = {'name' : [ 'Jerry', 'Riah', 'Paul'],\n",
    "         'algol' : [ \"A\", \"A+\", \"B\"],\n",
    "         'basic' : [ \"C\", \"B\", \"B+\"],\n",
    "          'c++' : [ \"B+\", \"C\", \"C+\"]}\n",
    "\n",
    "data2 = {'c0':[1,2,3], \n",
    "         'c1':[4,5,6], \n",
    "         'c2':[7,8,9], \n",
    "         'c3':[10,11,12], \n",
    "         'c4':[13,14,15]}\n",
    "\n",
    "df1 = pd.DataFrame(data1)\n",
    "df1 = df1.set_index('name')      #name 열을 인덱스로 지정\n",
    "print(df1)\n",
    "df1.to_excel(\"./data/excel_0423.xlsx\")\n",
    "df1.to_excel('./data/excel_0423.xlsx', index=False)\n",
    "print('\\n')"
   ]
  },
  {
   "cell_type": "code",
   "execution_count": 18,
   "id": "4aab026a-7750-4b19-be67-a17254974b62",
   "metadata": {},
   "outputs": [
    {
     "name": "stdout",
     "output_type": "stream",
     "text": [
      "    c1  c2  c3  c4\n",
      "c0                \n",
      "1    4   7  10  13\n",
      "2    5   8  11  14\n",
      "3    6   9  12  15\n"
     ]
    }
   ],
   "source": [
    "df2 = pd.DataFrame(data2)\n",
    "df2 = df2.set_index('c0')        #c0 열을 인덱스로 지정\n",
    "print(df2)\n"
   ]
  },
  {
   "cell_type": "code",
   "execution_count": 25,
   "id": "4a22b657-c98a-4825-98ac-48c7b77b1d62",
   "metadata": {},
   "outputs": [],
   "source": [
    "# 데이터프레임 2개를 한 개의 엑셀 파일로 저장한 시트 1 - 1 데이터프레임\n",
    "# 시트2 - 2데이터프레임\n",
    "\n",
    "with pd.ExcelWriter('./data/excel_2_sheet.xlsx') as writer:\n",
    "    df1.to_excel(writer, sheet_name='헤')\n",
    "    df2.to_excel(writer, sheet_name='호')"
   ]
  },
  {
   "cell_type": "code",
   "execution_count": null,
   "id": "494a37f0-527f-4160-880e-8645949d25b0",
   "metadata": {},
   "outputs": [],
   "source": []
  }
 ],
 "metadata": {
  "kernelspec": {
   "display_name": "Python 3 (ipykernel)",
   "language": "python",
   "name": "python3"
  },
  "language_info": {
   "codemirror_mode": {
    "name": "ipython",
    "version": 3
   },
   "file_extension": ".py",
   "mimetype": "text/x-python",
   "name": "python",
   "nbconvert_exporter": "python",
   "pygments_lexer": "ipython3",
   "version": "3.10.16"
  }
 },
 "nbformat": 4,
 "nbformat_minor": 5
}
