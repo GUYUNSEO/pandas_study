{
 "cells": [
  {
   "cell_type": "code",
   "execution_count": 1,
   "id": "1a318e69-8ca3-4d1d-8271-5c71a33525a3",
   "metadata": {},
   "outputs": [
    {
     "name": "stdout",
     "output_type": "stream",
     "text": [
      "a    100\n",
      "b    200\n",
      "c    300\n",
      "dtype: int64\n"
     ]
    }
   ],
   "source": [
    "# 리스트 자료를 시리즈로 만들기\n",
    "import pandas as pd\n",
    "list_data = [100,200,300]\n",
    "list_sr = pd.Series(list_data, index=['a','b','c'])\n",
    "print(list_sr)"
   ]
  },
  {
   "cell_type": "code",
   "execution_count": 2,
   "id": "75bba437-b578-46a4-80b7-93d9a359804e",
   "metadata": {},
   "outputs": [
    {
     "name": "stdout",
     "output_type": "stream",
     "text": [
      "a    300\n",
      "b    400\n",
      "dtype: int64\n"
     ]
    }
   ],
   "source": [
    "# 튜플 자료를 시리즈로 만들기\n",
    "tuple_data = ( 300, 400 )\n",
    "tuple_sr = pd.Series( tuple_data, index=['a','b'] )\n",
    "print(tuple_sr)"
   ]
  },
  {
   "cell_type": "code",
   "execution_count": 3,
   "id": "7a5c5e08-ee08-4b03-b246-c2a5170eb20b",
   "metadata": {},
   "outputs": [
    {
     "name": "stdout",
     "output_type": "stream",
     "text": [
      "RangeIndex(start=0, stop=5, step=1)\n",
      "['2019-01-02' 3.14 'ABC' 100 True]\n",
      "(5,)\n",
      "1\n"
     ]
    }
   ],
   "source": [
    "import pandas as pd\n",
    "list1 = [ '2019-01-02', 3.14, 'ABC', 100, True ]\n",
    "sr = pd.Series(list1)\n",
    "sr_index = sr.index\n",
    "sr_values = sr.values\n",
    "print(sr_index)\n",
    "print(sr_values)\n",
    "print(sr.shape) # 중요!!! 컴퓨터 비전에서 데이터 내용을 파악할 때 많이 쓰는 명령어임!\n",
    "print(sr.ndim) # n dimension (차원)"
   ]
  },
  {
   "cell_type": "code",
   "execution_count": 4,
   "id": "23ddab4f-8c02-4b8c-a659-a43744dfe2ea",
   "metadata": {},
   "outputs": [
    {
     "name": "stdout",
     "output_type": "stream",
     "text": [
      "딸기     5000\n",
      "바나나    3000\n",
      "dtype: int64\n",
      "상품명:  Index(['딸기', '바나나'], dtype='object')\n",
      "상품의 가격:  [5000 3000]\n"
     ]
    }
   ],
   "source": [
    "# 리스트 -> 시리즈\n",
    "# 시리즈 -> 리스트\n",
    "dic_data = {'딸기':5000, '바나나':3000}\n",
    "sr_fruits = pd.Series(dic_data)\n",
    "print(sr_fruits)\n",
    "# 딸기, 바나나를 리스트로 저장하기\n",
    "fruits = sr_fruits.index\n",
    "# 가격을 리스트로 저장하기\n",
    "price = sr_fruits.values\n",
    "print('상품명: ', fruits)\n",
    "print('상품의 가격: ', price)"
   ]
  },
  {
   "cell_type": "code",
   "execution_count": 5,
   "id": "074b90ea-3af6-4459-a644-b4d39c71d3d2",
   "metadata": {},
   "outputs": [
    {
     "name": "stdout",
     "output_type": "stream",
     "text": [
      "a    10\n",
      "b    20\n",
      "c    30\n",
      "d    40\n",
      "e    50\n",
      "f    60\n",
      "dtype: int64\n",
      "30 30\n"
     ]
    },
    {
     "name": "stderr",
     "output_type": "stream",
     "text": [
      "C:\\Users\\Public\\Documents\\ESTsoft\\CreatorTemp\\ipykernel_16004\\180960101.py:8: FutureWarning: Series.__getitem__ treating keys as positions is deprecated. In a future version, integer keys will always be treated as labels (consistent with DataFrame behavior). To access a value by position, use `ser.iloc[pos]`\n",
      "  print(sr010['c'], sr010[2] )\n"
     ]
    }
   ],
   "source": [
    "# 그림 1-5 코드 작성해보기\n",
    "num_list = list(range(10, 61, 10))\n",
    "i_list = ['a','b','c','d','e','f']\n",
    "sr010 = pd.Series(num_list, index = i_list)\n",
    "\n",
    "print(sr010)\n",
    "# 30 출력\n",
    "print(sr010['c'], sr010[2] )"
   ]
  },
  {
   "cell_type": "code",
   "execution_count": 6,
   "id": "86d35467-b5dc-4051-9fea-5ae0c2cba492",
   "metadata": {},
   "outputs": [
    {
     "name": "stdout",
     "output_type": "stream",
     "text": [
      "여\n",
      "성별               여\n",
      "생년월일    2010-05_01\n",
      "dtype: object\n",
      "이름              영인\n",
      "생년월일    2010-05_01\n",
      "dtype: object\n",
      "생년월일    2010-05_01\n",
      "성별               여\n",
      "학생여부          True\n",
      "dtype: object\n"
     ]
    }
   ],
   "source": [
    "tup_data = ('영인', '2010-05_01', '여', True)\n",
    "sr = pd.Series(tup_data, index = ['이름','생년월일','성별','학생여부'])\n",
    "print(sr['성별'])\n",
    "print( sr[ ['성별', '생년월일'] ] ) # 여러개의 인덱스명을 찍고 싶을 때 []\n",
    "# 만약 학생이면 이름과 생년월일을 출력하고\n",
    "# 아니면 이름만 출력하세요.\n",
    "if sr['학생여부'] :\n",
    "    print( sr[ ['이름', '생년월일'] ] )\n",
    "else:\n",
    "    print(sr['이름'])\n",
    "# 이름 인덱스부터 성별 인덱스끼지 연속적인 인덱스 자료 선택하기\n",
    "print( sr['생년월일' : '학생여부'])"
   ]
  },
  {
   "cell_type": "code",
   "execution_count": 7,
   "id": "a89d898a-5d4e-47cf-97a7-4d1c2d046572",
   "metadata": {},
   "outputs": [
    {
     "name": "stdout",
     "output_type": "stream",
     "text": [
      "100    5\n",
      "200    5\n",
      "300    5\n",
      "dtype: int64\n"
     ]
    }
   ],
   "source": [
    "pd.Series() # 빈 시리즈 만들기\n",
    "# print(sr_empty)\n",
    "sr_5 = pd.Series(5)\n",
    "sr_5 = pd.Series( 5, index=[100,200,300] )\n",
    "print(sr_5)\n",
    "# 데이터 0이고 인덱스 0~100\n",
    "sr_0 = pd.Series( 0, range(0, 101, 1) )"
   ]
  },
  {
   "cell_type": "code",
   "execution_count": null,
   "id": "8ce1c1c3-d1a7-40b8-96bc-d72ee4b56db7",
   "metadata": {},
   "outputs": [],
   "source": []
  },
  {
   "cell_type": "code",
   "execution_count": 8,
   "id": "e420a9e3-7cfc-4f97-a76e-324b787af3a4",
   "metadata": {},
   "outputs": [
    {
     "name": "stdout",
     "output_type": "stream",
     "text": [
      "a    100\n",
      "b    200\n",
      "c    300\n",
      "d    400\n",
      "e    500\n",
      "dtype: int64\n"
     ]
    }
   ],
   "source": [
    "q_list = [100,200,300,400,500]\n",
    "q_index = ['a','b','c','d','e'] \n",
    "s = pd.Series( q_list, index = q_index )\n",
    "print(s)"
   ]
  },
  {
   "cell_type": "code",
   "execution_count": 9,
   "id": "66f35d0e-97c9-491f-92f7-082c8b7b48dc",
   "metadata": {},
   "outputs": [
    {
     "name": "stdout",
     "output_type": "stream",
     "text": [
      "b    20\n",
      "d    40\n",
      "dtype: int64\n"
     ]
    }
   ],
   "source": [
    "s = pd.Series([10, 20, 30, 40, 50], index = ['a','b','c','d','e'])\n",
    "print( s[ ['b','d'] ] )"
   ]
  },
  {
   "cell_type": "code",
   "execution_count": 11,
   "id": "bb3252fe-390a-48ae-888e-1fc7c43dbd84",
   "metadata": {},
   "outputs": [
    {
     "name": "stdout",
     "output_type": "stream",
     "text": [
      "c    35\n",
      "d    45\n",
      "e    55\n",
      "dtype: int64\n"
     ]
    }
   ],
   "source": [
    "s = pd.Series( [15,25,35,45,55], index=['a','b','c','d','e'] )\n",
    "print( s[ s>30 ] )"
   ]
  },
  {
   "cell_type": "code",
   "execution_count": null,
   "id": "e6e1e600-3a4b-42ab-a7c3-af97b31a2a5f",
   "metadata": {},
   "outputs": [],
   "source": []
  },
  {
   "cell_type": "code",
   "execution_count": 13,
   "id": "12f3bec9-19de-45c1-8c02-480b2ba02191",
   "metadata": {},
   "outputs": [
    {
     "name": "stdout",
     "output_type": "stream",
     "text": [
      "95 95\n"
     ]
    },
    {
     "name": "stderr",
     "output_type": "stream",
     "text": [
      "C:\\Users\\Public\\Documents\\ESTsoft\\CreatorTemp\\ipykernel_16004\\1544545248.py:8: FutureWarning: Series.__getitem__ treating keys as positions is deprecated. In a future version, integer keys will always be treated as labels (consistent with DataFrame behavior). To access a value by position, use `ser.iloc[pos]`\n",
      "  print( s_scores[ 'Python' ], s_scores[0] )\n"
     ]
    }
   ],
   "source": [
    "scores = {\n",
    "    'Python': 95,\n",
    "    'Math' : 88,\n",
    "    'English' : 76,\n",
    "    'History' : 82\n",
    "}\n",
    "s_scores = pd.Series( scores )\n",
    "print( s_scores[ 'Python' ], s_scores[0] )"
   ]
  },
  {
   "cell_type": "code",
   "execution_count": 22,
   "id": "da39a600-e68f-408c-a8a1-e8ccd02bb4bc",
   "metadata": {},
   "outputs": [
    {
     "name": "stdout",
     "output_type": "stream",
     "text": [
      "A    12\n",
      "B    24\n",
      "C    36\n",
      "D    48\n",
      "E    60\n",
      "dtype: int64\n",
      "\n",
      "12 12\n",
      "\n",
      "A    12\n",
      "B    24\n",
      "C    36\n",
      "D    48\n",
      "E    60\n",
      "dtype: int64\n"
     ]
    },
    {
     "name": "stderr",
     "output_type": "stream",
     "text": [
      "C:\\Users\\Public\\Documents\\ESTsoft\\CreatorTemp\\ipykernel_16004\\260552020.py:6: FutureWarning: Series.__getitem__ treating keys as positions is deprecated. In a future version, integer keys will always be treated as labels (consistent with DataFrame behavior). To access a value by position, use `ser.iloc[pos]`\n",
      "  print( s['A'], s[0] )\n"
     ]
    }
   ],
   "source": [
    "# 6번 문제\n",
    "s = pd.Series([12,24,36,48,60])\n",
    "s.index = ['A','B','C','D','E']\n",
    "print(s)\n",
    "print()\n",
    "print( s['A'], s[0] )\n",
    "print()\n",
    "# 또는\n",
    "s = pd.Series([12,24,36,48,60], index = ['A','B','C','D','E'])\n",
    "print(s)"
   ]
  },
  {
   "cell_type": "code",
   "execution_count": 28,
   "id": "dbcaf973-0ca5-49c2-8aba-ec79767b26ce",
   "metadata": {},
   "outputs": [
    {
     "name": "stdout",
     "output_type": "stream",
     "text": [
      "85.6\n",
      "428\n",
      "95\n",
      "75\n"
     ]
    }
   ],
   "source": [
    "s = pd.Series([80,90,75,95,88])\n",
    "print( s.mean() )\n",
    "print( s.sum() )\n",
    "print( s.max() )\n",
    "print( s.min() )"
   ]
  },
  {
   "cell_type": "code",
   "execution_count": 29,
   "id": "d5606836-0a3c-4b5f-88a1-78f25b8eb4f1",
   "metadata": {
    "editable": true,
    "slideshow": {
     "slide_type": ""
    },
    "tags": []
   },
   "outputs": [],
   "source": [
    "s = pd.Series([42, 16, 58, 33, 95])\n"
   ]
  },
  {
   "cell_type": "code",
   "execution_count": 36,
   "id": "0e3f5038-34b8-4588-a336-5ac7ccdecb0b",
   "metadata": {},
   "outputs": [
    {
     "name": "stdout",
     "output_type": "stream",
     "text": [
      "0    10.0\n",
      "1    30.0\n",
      "2    30.0\n",
      "3    30.0\n",
      "4    50.0\n",
      "dtype: float64\n"
     ]
    }
   ],
   "source": [
    "#문제 9 -nan은 숫자가 아니다.(not a number)\n",
    "import numpy as np\n",
    "s = pd.Series([10, np.nan, 30, np.nan, 50])\n",
    "s_mean = s.mean()\n",
    "s_0 = s.fillna(s_mean)\n",
    "print( s_0 )\n"
   ]
  },
  {
   "cell_type": "code",
   "execution_count": 37,
   "id": "c670566e-80ef-4e0b-8f74-78af12d579d7",
   "metadata": {},
   "outputs": [
    {
     "name": "stdout",
     "output_type": "stream",
     "text": [
      "Index(['A', 'C', 'E'], dtype='object')\n"
     ]
    }
   ],
   "source": [
    "s = pd.Series([True, False, True, False, True], index=['A', 'B', 'C', 'D', 'E'])\n",
    "print( s[s].index )\n"
   ]
  },
  {
   "cell_type": "code",
   "execution_count": 40,
   "id": "0e626087-dce3-4c08-b4c8-e3a4122408b5",
   "metadata": {},
   "outputs": [
    {
     "name": "stdout",
     "output_type": "stream",
     "text": [
      "1     30\n",
      "3    100\n",
      "dtype: int64\n"
     ]
    }
   ],
   "source": [
    "s_num = [10,30,20,100]\n",
    "#시리즈로 만들기\n",
    "sr = pd.Series( s_num )\n",
    "#30이상인 것만 출력하기\n",
    "print( sr[ sr>=30 ] )"
   ]
  },
  {
   "cell_type": "code",
   "execution_count": null,
   "id": "30930726-75e8-4003-9c49-4fd579e61126",
   "metadata": {},
   "outputs": [],
   "source": []
  }
 ],
 "metadata": {
  "kernelspec": {
   "display_name": "ai",
   "language": "python",
   "name": "ai"
  },
  "language_info": {
   "codemirror_mode": {
    "name": "ipython",
    "version": 3
   },
   "file_extension": ".py",
   "mimetype": "text/x-python",
   "name": "python",
   "nbconvert_exporter": "python",
   "pygments_lexer": "ipython3",
   "version": "3.10.16"
  }
 },
 "nbformat": 4,
 "nbformat_minor": 5
}
