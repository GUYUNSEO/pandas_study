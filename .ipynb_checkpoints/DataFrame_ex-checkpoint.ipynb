{
 "cells": [
  {
   "cell_type": "markdown",
   "id": "acc1526f-18b6-4d14-8b2c-04b7a7418369",
   "metadata": {
    "editable": true,
    "slideshow": {
     "slide_type": ""
    },
    "tags": []
   },
   "source": [
    "### 데이터 프레임\n",
    "- 2차원 배열\n",
    "- 2차원 벡터, 행렬\n",
    "- 열 == 속성 == 항목\n",
    "- 행 == 레코드 == 줄\n",
    "- 예) 주식 종목: 행 - 관측값 / 열 - 종목코드, 회사이름, 액면가, 총주식수"
   ]
  },
  {
   "cell_type": "code",
   "execution_count": 12,
   "id": "fb9ea5b3-d004-4419-a882-e31235b90b16",
   "metadata": {},
   "outputs": [
    {
     "name": "stdout",
     "output_type": "stream",
     "text": [
      "   초1  초2  초3  초4  초5\n",
      "A   1   4   7  10  13\n",
      "B   2   5   8  11  14\n",
      "C   3   6   9  12  15\n"
     ]
    }
   ],
   "source": [
    "# 데이터 프레임 만들기\n",
    "import pandas as pd\n",
    "dict_data = {'c0':[1,2,3], 'c1':[4,5,6], 'c2':[7,8,9], 'c3':[10,11,12], 'c4':[13,14,15]}\n",
    "df=pd.DataFrame( dict_data, index = [ 'A', 'B', 'C' ] ) # 1.만들고\n",
    "# 딕셔너리의 columns 이름은 못 바꾼다...? --> 만들고 난 후에 변경은 가능하다.\n",
    "df.columns = ['초1','초2','초3','초4','초5'] # 2.이름 바꾸기\n",
    "print(df)"
   ]
  },
  {
   "cell_type": "code",
   "execution_count": 10,
   "id": "44f7c0a1-0c9d-447b-b26b-cd22105b59a4",
   "metadata": {},
   "outputs": [
    {
     "name": "stdout",
     "output_type": "stream",
     "text": [
      "   name  age  children\n",
      "0   kim   24         2\n",
      "1   Lee   27         1\n",
      "2  Park   34         3\n"
     ]
    }
   ],
   "source": [
    "dict_data1 = { 'name':['kim','Lee','Park'], 'age':[24,27,34], 'children':[2,1,3] }\n",
    "df1 = pd.DataFrame(dict_data1)\n",
    "print(df1)"
   ]
  },
  {
   "cell_type": "code",
   "execution_count": 11,
   "id": "194dc232-1588-4f09-aebf-660b920717b9",
   "metadata": {},
   "outputs": [
    {
     "name": "stdout",
     "output_type": "stream",
     "text": [
      "         food  price  rating\n",
      "0         KFC   1000     4.5\n",
      "1    McDonald   2000     3.9\n",
      "2  SchoolFood   2500     4.2\n"
     ]
    }
   ],
   "source": [
    "dict_food_data = { 'food':['KFC','McDonald','SchoolFood'], 'price':[1000,2000,2500], 'rating':[4.5,3.9,4.2] }\n",
    "dfd = pd.DataFrame(dict_food_data)\n",
    "print(dfd)"
   ]
  },
  {
   "cell_type": "code",
   "execution_count": 34,
   "id": "1b4123f8-48ee-464d-a709-d07315daa382",
   "metadata": {},
   "outputs": [
    {
     "name": "stdout",
     "output_type": "stream",
     "text": [
      "    나이 성별 중학교명\n",
      "1반  15  남  덕영중\n",
      "2반  17  여  수리중\n",
      "Index(['1반', '2반'], dtype='object')\n",
      "Index(['나이', '성별', '중학교명'], dtype='object')\n",
      "    나이 성별 중학교명\n",
      "준서  15  남  덕영중\n",
      "예은  17  여  수리중\n",
      "    나이 성별   학교\n",
      "준서  15  남  덕영중\n",
      "예은  17  여  수리중\n",
      "    나이 성별   학교\n",
      "준서  15  남  덕영중\n",
      "   성별   학교\n",
      "준서  남  덕영중\n",
      "예은  여  수리중\n"
     ]
    }
   ],
   "source": [
    "# 방법2) pd.DataFrame( 2차원배열, index=행인덱스배열, columns=열이름배열 )\n",
    "d_2 = [ [15,'남','덕영중'], [17,'여','수리중'] ] #2차원\n",
    "df2 = pd.DataFrame( d_2 )\n",
    "df2.index = [ '1반','2반' ]\n",
    "df2.columns = [ '나이','성별','중학교명' ]\n",
    "print( df2 )\n",
    "# 반의 이름은?\n",
    "print( df2.index )\n",
    "# 한 학생의 자료 항목은 무엇입니까?\n",
    "print( df2.columns )\n",
    "# rename\n",
    "# 1반을 준서로, 2반을 예은으로 변경\n",
    "df2 = df2.rename( index = {'1반':'준서', '2반':'예은'} )\n",
    "print(df2)\n",
    "# 중학교명을 학교라고 변경\n",
    "df2 = df2.rename( columns = {'중학교명':'학교'} )\n",
    "print(df2)\n",
    "\n",
    "# df2 = df2.rename( index = {'1반':'준서', '2반':'예은'}, columns = {'중학교명':'학교'} ) -> 한 번에도 가능\n",
    "\n",
    "# drop 삭제하기\n",
    "# 문제) '예은'을 지우세요.\n",
    "df2_drop = df2.drop('예은', axis=\"index\")\n",
    "print(df2_drop)\n",
    "# 문제) '나이'를 지우세요.\n",
    "df2_age_drop = df2.drop('나이', axis =1)\n",
    "print(df2_age_drop)"
   ]
  },
  {
   "cell_type": "code",
   "execution_count": 49,
   "id": "bacf692b-a1b6-40b9-be59-f782f90bc671",
   "metadata": {},
   "outputs": [
    {
     "name": "stdout",
     "output_type": "stream",
     "text": [
      "    수학  영어   음악   체육\n",
      "준서  90  98   85  100\n",
      "우현  80  89   95   90\n",
      "인아  70  95  100   90\n",
      "    수학  영어   음악   체육\n",
      "준서  90  98   85  100\n",
      "인아  70  95  100   90\n",
      "    수학  영어  음악  체육\n",
      "우현  80  89  95  90\n",
      "    수학  영어   음악   체육\n",
      "준서  90  98   85  100\n",
      "우현  80  89   95   90\n",
      "인아  70  95  100   90\n",
      "    수학   음악   체육\n",
      "준서  90   85  100\n",
      "우현  80   95   90\n",
      "인아  70  100   90\n"
     ]
    }
   ],
   "source": [
    "# 교재 <예제 1-7> p.22\n",
    "exam_data = {\n",
    "    '수학':[90,80,70],\n",
    "    '영어':[98,89,95],\n",
    "    '음악':[85,95,100],\n",
    "    '체육':[100,90,90]\n",
    "}\n",
    "df = pd.DataFrame( exam_data, index = ['준서','우현','인아'] )\n",
    "print(df)\n",
    "\n",
    "df2=df.copy()\n",
    "df2 = df2.drop('우현')\n",
    "print(df2)\n",
    "\n",
    "df3 = df.copy()\n",
    "df3 = df3.drop( ['준서','인아'] )\n",
    "print(df3)\n",
    "\n",
    "df4 = df.copy()\n",
    "# df4 = df4.drop( ['준서':'우현'] ) -> 오류 발생\n",
    "print(df4)\n",
    "\n",
    "df5 = df.copy()\n",
    "df5 = df5.drop( '영어', axis=1 )\n",
    "print(df5)"
   ]
  },
  {
   "cell_type": "code",
   "execution_count": 52,
   "id": "368adea9-c71e-443b-ad2e-d0272e533c1c",
   "metadata": {},
   "outputs": [
    {
     "name": "stdout",
     "output_type": "stream",
     "text": [
      "    수학  영어   음악   체육\n",
      "준서  90  98   85  100\n",
      "우현  80  89   95   90\n",
      "인아  70  95  100   90\n"
     ]
    },
    {
     "data": {
      "text/plain": [
       "수학     90\n",
       "영어     98\n",
       "음악     85\n",
       "체육    100\n",
       "Name: 준서, dtype: int64"
      ]
     },
     "execution_count": 52,
     "metadata": {},
     "output_type": "execute_result"
    }
   ],
   "source": [
    "exam_data = {\n",
    "    '수학':[90,80,70],\n",
    "    '영어':[98,89,95],\n",
    "    '음악':[85,95,100],\n",
    "    '체육':[100,90,90]\n",
    "}\n",
    "df = pd.DataFrame( exam_data, index = ['준서','우현','인아'] )\n",
    "print(df)\n",
    "\n",
    "label1 = df.loc['준서']\n",
    "label1\n"
   ]
  },
  {
   "cell_type": "code",
   "execution_count": 64,
   "id": "4b31ecd1-8365-41ed-881a-e9bdf679eecc",
   "metadata": {},
   "outputs": [
    {
     "name": "stdout",
     "output_type": "stream",
     "text": [
      "         food  price  rating\n",
      "0         KFC   1000     4.5\n",
      "1    McDonald   2000     3.9\n",
      "2  SchoolFood   2500     4.2\n",
      "\n",
      "0           KFC\n",
      "1      McDonald\n",
      "2    SchoolFood\n",
      "Name: food, dtype: object\n",
      "\n",
      "\n",
      "<class 'pandas.core.series.Series'>\n",
      "\n",
      "0    4.5\n",
      "1    3.9\n",
      "2    4.2\n",
      "Name: rating, dtype: float64\n",
      "\n",
      "\n",
      "<class 'pandas.core.series.Series'>\n",
      "\n",
      "         food  price\n",
      "0         KFC   1000\n",
      "1    McDonald   2000\n",
      "2  SchoolFood   2500\n",
      "\n",
      "\n",
      "<class 'pandas.core.frame.DataFrame'>\n"
     ]
    }
   ],
   "source": [
    "# 5.데이터 프레임 문제 > 2번) food 컬럼과 rating 컬럼만 선택하여 출력하세요\n",
    "dict_food_data = { 'food':['KFC','McDonald','SchoolFood'], 'price':[1000,2000,2500], 'rating':[4.5,3.9,4.2] }\n",
    "dfd = pd.DataFrame(dict_food_data)\n",
    "print(dfd)\n",
    "print()\n",
    "#food 컬럼만 선택\n",
    "dfd_f = dfd.food\n",
    "print(dfd_f)\n",
    "print('\\n')\n",
    "print(type(dfd_f))\n",
    "print()\n",
    "#rating 컬럼만 선텍\n",
    "dfd_r = dfd.rating\n",
    "print(dfd_r)\n",
    "print('\\n')\n",
    "print(type(dfd_r))\n",
    "print()\n",
    "\n",
    "#food와 price 동시에 선택\n",
    "dfd_fp = dfd[['food', 'price']]\n",
    "print(dfd_fp)\n",
    "print('\\n')\n",
    "print(type(dfd_fp))\n",
    "\n",
    "#"
   ]
  },
  {
   "cell_type": "code",
   "execution_count": 69,
   "id": "7a2c8c59-da86-4443-8095-b3eb881d01b0",
   "metadata": {},
   "outputs": [
    {
     "data": {
      "text/html": [
       "<div>\n",
       "<style scoped>\n",
       "    .dataframe tbody tr th:only-of-type {\n",
       "        vertical-align: middle;\n",
       "    }\n",
       "\n",
       "    .dataframe tbody tr th {\n",
       "        vertical-align: top;\n",
       "    }\n",
       "\n",
       "    .dataframe thead th {\n",
       "        text-align: right;\n",
       "    }\n",
       "</style>\n",
       "<table border=\"1\" class=\"dataframe\">\n",
       "  <thead>\n",
       "    <tr style=\"text-align: right;\">\n",
       "      <th></th>\n",
       "      <th>이름</th>\n",
       "      <th>수학</th>\n",
       "      <th>영어</th>\n",
       "      <th>음악</th>\n",
       "      <th>체육</th>\n",
       "    </tr>\n",
       "  </thead>\n",
       "  <tbody>\n",
       "    <tr>\n",
       "      <th>0</th>\n",
       "      <td>서준</td>\n",
       "      <td>90</td>\n",
       "      <td>98</td>\n",
       "      <td>85</td>\n",
       "      <td>100</td>\n",
       "    </tr>\n",
       "    <tr>\n",
       "      <th>1</th>\n",
       "      <td>우현</td>\n",
       "      <td>80</td>\n",
       "      <td>89</td>\n",
       "      <td>95</td>\n",
       "      <td>90</td>\n",
       "    </tr>\n",
       "    <tr>\n",
       "      <th>2</th>\n",
       "      <td>인아</td>\n",
       "      <td>70</td>\n",
       "      <td>95</td>\n",
       "      <td>100</td>\n",
       "      <td>90</td>\n",
       "    </tr>\n",
       "  </tbody>\n",
       "</table>\n",
       "</div>"
      ],
      "text/plain": [
       "   이름  수학  영어   음악   체육\n",
       "0  서준  90  98   85  100\n",
       "1  우현  80  89   95   90\n",
       "2  인아  70  95  100   90"
      ]
     },
     "execution_count": 69,
     "metadata": {},
     "output_type": "execute_result"
    }
   ],
   "source": [
    "# 예제 1-10\n",
    "exam_data = {\n",
    "    \"이름\":['서준','우현','인아'],\n",
    "    \"수학\":[90,80,70],\n",
    "    \"영어\":[98,89,95],\n",
    "    \"음악\":[85,95,100],\n",
    "    \"체육\":[100,90,90]\n",
    "}\n",
    "exam_df = pd.DataFrame(exam_data)\n",
    "exam_df\n",
    "\n",
    "# 1-10: 열 선택\n"
   ]
  },
  {
   "cell_type": "code",
   "execution_count": 72,
   "id": "3ddeb4be-1c73-445d-9426-2c5c61283d4e",
   "metadata": {},
   "outputs": [
    {
     "data": {
      "text/html": [
       "<div>\n",
       "<style scoped>\n",
       "    .dataframe tbody tr th:only-of-type {\n",
       "        vertical-align: middle;\n",
       "    }\n",
       "\n",
       "    .dataframe tbody tr th {\n",
       "        vertical-align: top;\n",
       "    }\n",
       "\n",
       "    .dataframe thead th {\n",
       "        text-align: right;\n",
       "    }\n",
       "</style>\n",
       "<table border=\"1\" class=\"dataframe\">\n",
       "  <thead>\n",
       "    <tr style=\"text-align: right;\">\n",
       "      <th></th>\n",
       "      <th>이름</th>\n",
       "      <th>수학</th>\n",
       "      <th>영어</th>\n",
       "      <th>음악</th>\n",
       "      <th>체육</th>\n",
       "    </tr>\n",
       "  </thead>\n",
       "  <tbody>\n",
       "    <tr>\n",
       "      <th>서준</th>\n",
       "      <td>서준</td>\n",
       "      <td>90</td>\n",
       "      <td>98</td>\n",
       "      <td>85</td>\n",
       "      <td>100</td>\n",
       "    </tr>\n",
       "    <tr>\n",
       "      <th>우현</th>\n",
       "      <td>우현</td>\n",
       "      <td>80</td>\n",
       "      <td>89</td>\n",
       "      <td>95</td>\n",
       "      <td>90</td>\n",
       "    </tr>\n",
       "    <tr>\n",
       "      <th>인아</th>\n",
       "      <td>인아</td>\n",
       "      <td>70</td>\n",
       "      <td>95</td>\n",
       "      <td>100</td>\n",
       "      <td>90</td>\n",
       "    </tr>\n",
       "  </tbody>\n",
       "</table>\n",
       "</div>"
      ],
      "text/plain": [
       "    이름  수학  영어   음악   체육\n",
       "서준  서준  90  98   85  100\n",
       "우현  우현  80  89   95   90\n",
       "인아  인아  70  95  100   90"
      ]
     },
     "execution_count": 72,
     "metadata": {},
     "output_type": "execute_result"
    }
   ],
   "source": [
    "# 1-10: 열 선택\n",
    "exam_data = {\n",
    "    \"이름\":['서준','우현','인아'],\n",
    "    \"수학\":[90,80,70],\n",
    "    \"영어\":[98,89,95],\n",
    "    \"음악\":[85,95,100],\n",
    "    \"체육\":[100,90,90]\n",
    "}\n",
    "exam_df = pd.DataFrame(exam_data, index=['서준','우현','인아'])\n",
    "exam_df"
   ]
  },
  {
   "cell_type": "code",
   "execution_count": 81,
   "id": "8c74c1de-b667-4770-a432-5c2720afcbab",
   "metadata": {},
   "outputs": [
    {
     "name": "stdout",
     "output_type": "stream",
     "text": [
      "<class 'pandas.core.frame.DataFrame'>\n",
      "   이름  수학  영어   음악   체육\n",
      "0  서준  90  98   85  100\n",
      "1  우현  80  89   95   90\n",
      "2  인아  70  95  100   90\n",
      "\n",
      "0    90\n",
      "1    80\n",
      "2    70\n",
      "Name: 수학, dtype: int64\n",
      "<class 'pandas.core.series.Series'>\n",
      "\n",
      "<class 'pandas.core.series.Series'>\n"
     ]
    }
   ],
   "source": [
    "# 예제 1-10\n",
    "exam_data = {\n",
    "    \"이름\":['서준','우현','인아'],\n",
    "    \"수학\":[90,80,70],\n",
    "    \"영어\":[98,89,95],\n",
    "    \"음악\":[85,95,100],\n",
    "    \"체육\":[100,90,90]\n",
    "}\n",
    "exam_df = pd.DataFrame(exam_data)\n",
    "\n",
    "print(type(exam_df))\n",
    "print(exam_df)\n",
    "print()\n",
    "\n",
    "# 1-10: 열 선택\n",
    "math1 = exam_df['수학']\n",
    "print(math1)\n",
    "print(type(math1))\n",
    "print()\n",
    "\n",
    "#영어\n",
    "eng = exam_df.영어\n",
    "print(type(eng))\n",
    "eng"
   ]
  },
  {
   "cell_type": "code",
   "execution_count": null,
   "id": "ab27d344-cc04-4e1f-bfba-4c180dc2623d",
   "metadata": {},
   "outputs": [],
   "source": []
  }
 ],
 "metadata": {
  "kernelspec": {
   "display_name": "ai",
   "language": "python",
   "name": "ai"
  },
  "language_info": {
   "codemirror_mode": {
    "name": "ipython",
    "version": 3
   },
   "file_extension": ".py",
   "mimetype": "text/x-python",
   "name": "python",
   "nbconvert_exporter": "python",
   "pygments_lexer": "ipython3",
   "version": "3.10.16"
  }
 },
 "nbformat": 4,
 "nbformat_minor": 5
}
