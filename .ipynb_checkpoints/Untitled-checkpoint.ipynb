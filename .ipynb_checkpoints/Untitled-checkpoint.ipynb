{
 "cells": [
  {
   "cell_type": "markdown",
   "id": "69e32936-c8cc-4897-9492-491ced65c5b4",
   "metadata": {},
   "source": [
    "# 판다스 용도\n",
    "## 데이터 수집과 정리를 하는 역할\n",
    "# 자료 형식\n",
    "## 시리즈, 데이터 프레임\n",
    "# 판다스 목적\n",
    "## 서로 다른 여러가지 유형의 데이터를 공통인 포맷으로 정리하는 것"
   ]
  },
  {
   "cell_type": "markdown",
   "id": "0e97c614-527e-4912-aee1-ac9d283abc32",
   "metadata": {},
   "source": [
    "1. 시리즈\n",
    "   1.1 1차원 배열"
   ]
  },
  {
   "cell_type": "code",
   "execution_count": 3,
   "id": "da0269d2-abb8-475d-91fc-d6306bd3a4b0",
   "metadata": {},
   "outputs": [
    {
     "name": "stdout",
     "output_type": "stream",
     "text": [
      "a    1\n",
      "b    2\n",
      "c    3\n",
      "dtype: int64\n"
     ]
    }
   ],
   "source": [
    "import pandas as pd\n",
    "dict_data = {'a':1, 'b':2, 'c':3 }\n",
    "sr=pd.Series(dict_data)\n",
    "print(sr)"
   ]
  },
  {
   "cell_type": "code",
   "execution_count": 4,
   "id": "2c46fa51-e959-483a-a4d0-204e33a03378",
   "metadata": {},
   "outputs": [
    {
     "name": "stdout",
     "output_type": "stream",
     "text": [
      "[1, 2, 3, 4, 5, 6, 7, 8, 9, 10]\n"
     ]
    }
   ],
   "source": [
    "list_data = list(range(10,101,10))\n",
    "print(list_data)"
   ]
  },
  {
   "cell_type": "code",
   "execution_count": null,
   "id": "5f586632-71ed-4b3d-af91-9b40313de56d",
   "metadata": {},
   "outputs": [],
   "source": []
  }
 ],
 "metadata": {
  "kernelspec": {
   "display_name": "ai",
   "language": "python",
   "name": "ai"
  },
  "language_info": {
   "codemirror_mode": {
    "name": "ipython",
    "version": 3
   },
   "file_extension": ".py",
   "mimetype": "text/x-python",
   "name": "python",
   "nbconvert_exporter": "python",
   "pygments_lexer": "ipython3",
   "version": "3.10.16"
  }
 },
 "nbformat": 4,
 "nbformat_minor": 5
}
