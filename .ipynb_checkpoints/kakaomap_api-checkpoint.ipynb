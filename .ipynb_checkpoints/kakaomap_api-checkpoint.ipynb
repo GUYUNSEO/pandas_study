{
 "cells": [
  {
   "cell_type": "code",
   "execution_count": null,
   "id": "f2705d4d-73e5-41c3-848c-fccd780f7fa0",
   "metadata": {},
   "outputs": [],
   "source": [
    "# 위도 , 경도를 입력하면 주소가 나오게 하는 것"
   ]
  },
  {
   "cell_type": "code",
   "execution_count": 2,
   "id": "74a93bbd-05db-417a-9e74-edb63898943c",
   "metadata": {},
   "outputs": [
    {
     "name": "stdin",
     "output_type": "stream",
     "text": [
      "위도를 입력해주세요:  37.57184\n",
      "경도를 입력해주세요:  126.976\n"
     ]
    }
   ],
   "source": [
    "lat = float(input(\"위도를 입력해주세요: \")) #37.57184\n",
    "lng = float(input(\"경도를 입력해주세요: \")) # 126.976"
   ]
  },
  {
   "cell_type": "code",
   "execution_count": 13,
   "id": "6bed02cb-18bf-420b-b318-71d555a71c8e",
   "metadata": {},
   "outputs": [
    {
     "name": "stdout",
     "output_type": "stream",
     "text": [
      "<Response [200]>\n",
      "리존타입은 B\n",
      "주소는 서울특별시 종로구 세종로\n"
     ]
    }
   ],
   "source": [
    "\n",
    "import requests\n",
    "\n",
    "\n",
    "# 인증키를 변수에 넣기\n",
    "my_key = '3a49685598647bafa0d8bc025a049400'\n",
    "\n",
    "def lat_lng_addr(lat, lng) :\n",
    "    url = f\"https://dapi.kakao.com/v2/local/geo/coord2regioncode.json?x={lng}&y={lat}\"\n",
    "    headers = {\"Authorization\": f\"KakaoAK {my_key}\"}\n",
    "    response = requests.get(url, headers = headers)\n",
    "    result = response.json()\n",
    "    print(response)\n",
    "    print(\"리존타입은\", result[\"documents\"][0][\"region_type\"])\n",
    "    print(\"주소는\", result[\"documents\"][0][\"address_name\"])\n",
    "\n",
    "lat_lng_addr(lat, lng)\n",
    "    "
   ]
  }
 ],
 "metadata": {
  "kernelspec": {
   "display_name": "Python 3 (ipykernel)",
   "language": "python",
   "name": "python3"
  },
  "language_info": {
   "codemirror_mode": {
    "name": "ipython",
    "version": 3
   },
   "file_extension": ".py",
   "mimetype": "text/x-python",
   "name": "python",
   "nbconvert_exporter": "python",
   "pygments_lexer": "ipython3",
   "version": "3.10.16"
  }
 },
 "nbformat": 4,
 "nbformat_minor": 5
}
