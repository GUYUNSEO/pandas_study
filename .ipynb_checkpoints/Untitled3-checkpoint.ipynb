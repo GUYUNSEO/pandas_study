{
 "cells": [
  {
   "cell_type": "markdown",
   "id": "a621695e-917b-4e17-899c-ecbadcfdacb5",
   "metadata": {},
   "source": [
    "## 문자열 메소드\n",
    "책 p.82"
   ]
  },
  {
   "cell_type": "code",
   "execution_count": 1,
   "id": "a9883a60-dc8b-4d2c-8226-544a3db6a6a7",
   "metadata": {},
   "outputs": [
    {
     "name": "stdout",
     "output_type": "stream",
     "text": [
      "First        Apple_사과\n",
      " Second    Banana_바나나\n",
      " Third      Cherry_체리\n",
      "Fourth            NaN\n",
      "dtype: object\n",
      "\n",
      "\n",
      "First        Apple_사과\n",
      " Second    Banana_바나나\n",
      " Third      Cherry_체리\n",
      "Fourth           <NA>\n",
      "dtype: string\n"
     ]
    }
   ],
   "source": [
    "import numpy as np\n",
    "import pandas as pd\n",
    "\n",
    "ser = pd.Series([\n",
    "    \"Apple_사과\", \"Banana_바나나\", \"Cherry_체리\", np.nan],\n",
    "                index=[\"First \", \" Second\", \" Third\", \"Fourth\"])\n",
    "print(ser)\n",
    "print(\"\\n\")\n",
    "\n",
    "ser2 = pd.Series([\n",
    "    \"Apple_사과\", \"Banana_바나나\", \"Cherry_체리\", np.nan],\n",
    "                index=[\"First \", \" Second\", \" Third\", \"Fourth\"], dtype=\"string\")\n",
    "print(ser2)"
   ]
  },
  {
   "cell_type": "code",
   "execution_count": 2,
   "id": "820f6567-7384-4a93-bfa3-0663543a3b94",
   "metadata": {},
   "outputs": [
    {
     "name": "stdout",
     "output_type": "stream",
     "text": [
      "First        apple_사과\n",
      " Second    banana_바나나\n",
      " Third      cherry_체리\n",
      "Fourth            NaN\n",
      "dtype: object\n",
      "\n",
      "\n",
      "First        APPLE_사과\n",
      " Second    BANANA_바나나\n",
      " Third      CHERRY_체리\n",
      "Fourth            NaN\n",
      "dtype: object\n",
      "\n",
      "\n",
      "First       8.0\n",
      " Second    10.0\n",
      " Third      9.0\n",
      "Fourth      NaN\n",
      "dtype: float64\n"
     ]
    }
   ],
   "source": [
    "print( ser.str.lower() )\n",
    "print(\"\\n\")\n",
    "\n",
    "#대문자로 변환\n",
    "print(ser.str.upper() )\n",
    "print(\"\\n\")\n",
    "\n",
    "# 문자열 길이 계산\n",
    "print(ser.str.len() )"
   ]
  },
  {
   "cell_type": "code",
   "execution_count": 3,
   "id": "92a5bba7-797d-422c-b501-bc46a86ea9a8",
   "metadata": {},
   "outputs": [
    {
     "name": "stdout",
     "output_type": "stream",
     "text": [
      "First        [Apple, 사과]\n",
      " Second    [Banana, 바나나]\n",
      " Third      [Cherry, 체리]\n",
      "Fourth               NaN\n",
      "dtype: object\n",
      "\n",
      "\n",
      "              0    1\n",
      "First     Apple   사과\n",
      " Second  Banana  바나나\n",
      " Third   Cherry   체리\n",
      "Fourth      NaN  NaN\n",
      "\n",
      "\n",
      "First       사과\n",
      " Second    바나나\n",
      " Third      체리\n",
      "Fourth     NaN\n",
      "dtype: object\n",
      "--------------------------------------------------------------------------------\n",
      "c0      a-10-b\n",
      "c1    a1-20-b2\n",
      "dtype: string\n",
      "\n",
      "c0      [a, 10, b]\n",
      "c1    [a1, 20, b2]\n",
      "dtype: object\n",
      "\n",
      "c0    10\n",
      "c1    20\n",
      "dtype: object\n",
      "\n"
     ]
    },
    {
     "data": {
      "text/plain": [
       "c0      [a, 10, b]\n",
       "c1    [a1, 20, b2]\n",
       "dtype: object"
      ]
     },
     "execution_count": 3,
     "metadata": {},
     "output_type": "execute_result"
    }
   ],
   "source": [
    "#문자열 분할\n",
    "print(ser.str.split(\"_\"))\n",
    "print(\"\\n\")\n",
    "\n",
    "# 문자열을 분할하여 DataFrame으로 확장\n",
    "print(ser.str.split(\"_\", expand=True))\n",
    "print(\"\\n\")\n",
    "\n",
    "# 분할된 문자열 중 특정 요소 선택\n",
    "print(ser.str.split(\"_\").str.get(1) )\n",
    "\n",
    "print(\"-\"*80)\n",
    "# ex) a-10-b, a1-20-b2 시리즈로 만들기 index=['c0','c1']\n",
    "ser1 = pd.Series( ['a-10-b', 'a1-20-b2'], index=['c0','c1'], dtype=\"string\" )\n",
    "print(ser1)\n",
    "print()\n",
    "# \"-\" 문자를 기준으로 분리하기\n",
    "ser1_s = ser1.str.split(\"-\")\n",
    "print(ser1_s)\n",
    "print()\n",
    "\n",
    "# 10만 선택\n",
    "ser1_g = ser1.str.split(\"-\").str.get(1)\n",
    "print(ser1_g)\n",
    "print()\n",
    "\n",
    "# \":\",\"-\" 문자를 기준으로 분리하기\n",
    "ser1_2_s = ser1.str.split('[:\\-]')\n",
    "ser1_2_s"
   ]
  },
  {
   "cell_type": "code",
   "execution_count": 4,
   "id": "ca92aaca-d552-4611-857c-f4601b295321",
   "metadata": {},
   "outputs": [
    {
     "name": "stdout",
     "output_type": "stream",
     "text": [
      "Index(['First ', ' Second', ' Third', 'Fourth'], dtype='object')\n",
      "Index(['First', 'Second', 'Third', 'Fourth'], dtype='object')\n",
      "Index(['First ', 'Second', 'Third', 'Fourth'], dtype='object')\n",
      "Index(['First', 'Second', 'Third', 'Fourth'], dtype='object')\n"
     ]
    }
   ],
   "source": [
    "# 행 인덱스를 추출\n",
    "idx = ser.index\n",
    "print(idx)\n",
    "\n",
    "# 양쪽 공백 제거\n",
    "print(idx.str.strip() )\n",
    "\n",
    "# 왼쪽 공백 제거\n",
    "print(idx.str.lstrip() )\n",
    "\n",
    "# 오른쪽 공백 제거\n",
    "print(idx.str.strip() )"
   ]
  },
  {
   "cell_type": "code",
   "execution_count": 5,
   "id": "ea60c019-7872-484f-8d73-54a28e985832",
   "metadata": {},
   "outputs": [
    {
     "data": {
      "text/plain": [
       "Index(['First', ' Second', ' Third', 'Fourth'], dtype='object')"
      ]
     },
     "execution_count": 5,
     "metadata": {},
     "output_type": "execute_result"
    }
   ],
   "source": [
    "idx = ser.index\n",
    "idx\n",
    "idx.str.strip()\n",
    "idx.str.lstrip()\n",
    "idx.str.rstrip()\n"
   ]
  },
  {
   "cell_type": "code",
   "execution_count": 6,
   "id": "47355388-2d34-488d-807c-f18d191d1d10",
   "metadata": {},
   "outputs": [
    {
     "data": {
      "text/plain": [
       "First        Apple,사과\n",
       " Second    Banana,바나나\n",
       " Third      Cherry,체리\n",
       "Fourth            NaN\n",
       "dtype: object"
      ]
     },
     "execution_count": 6,
     "metadata": {},
     "output_type": "execute_result"
    }
   ],
   "source": [
    "# 정규표현식: 문자열의 패턴을 코드해서 패턴에 맞는 것 검색하기\n",
    "\n",
    "ser = ser.str.replace(\"_\", \",\", regex=False)\n",
    "ser\n",
    "\n",
    "\n"
   ]
  },
  {
   "cell_type": "code",
   "execution_count": 7,
   "id": "580d86f5-b105-4504-9aeb-fe1c77bc7bae",
   "metadata": {},
   "outputs": [
    {
     "data": {
      "text/plain": [
       "First        Apple-사과\n",
       " Second    Banana-바나나\n",
       " Third      Cherry-체리\n",
       "Fourth            NaN\n",
       "dtype: object"
      ]
     },
     "execution_count": 7,
     "metadata": {},
     "output_type": "execute_result"
    }
   ],
   "source": [
    "ser = ser.str.replace(\",\", \"-\", regex=False)\n",
    "ser"
   ]
  },
  {
   "cell_type": "code",
   "execution_count": 8,
   "id": "64e8c3f7-bfe0-417b-93a1-8882749e4dd1",
   "metadata": {},
   "outputs": [
    {
     "name": "stdout",
     "output_type": "stream",
     "text": [
      "First       Apple\n",
      " Second    Banana\n",
      " Third     Cherry\n",
      "Fourth        NaN\n",
      "dtype: object\n",
      "\n"
     ]
    },
    {
     "data": {
      "text/plain": [
       "First       사과\n",
       " Second    바나나\n",
       " Third      체리\n",
       "Fourth     NaN\n",
       "dtype: object"
      ]
     },
     "execution_count": 8,
     "metadata": {},
     "output_type": "execute_result"
    }
   ],
   "source": [
    "print(ser.str.replace(\"[^a-zA-Z\\s]\", \"\", regex=True))\n",
    "# 영문자 소문자, 대문자 공백을 제외하고 모든 문자열을 \"\"지우기, 바꾸기\n",
    "print()\n",
    "\n",
    "# 한글 출력하기\n",
    "ser.str.replace(\"[a-zA-Z\\-]\", \"\", regex=True)\n",
    "\n",
    "# 한글 제외\n",
    "ser.str.replace(\"[^가-힣]\",\"\", regex=True)"
   ]
  },
  {
   "cell_type": "code",
   "execution_count": 9,
   "id": "f3ade7fb-99c8-4601-9fcc-6029108893ad",
   "metadata": {},
   "outputs": [
    {
     "name": "stdout",
     "output_type": "stream",
     "text": [
      "First      Appl\n",
      " Second    Bana\n",
      " Third     Cher\n",
      "Fourth      NaN\n",
      "dtype: object\n",
      "First        과사-elppA\n",
      " Second    나나바-ananaB\n",
      " Third      리체-yrrehC\n",
      "Fourth            NaN\n",
      "dtype: object\n"
     ]
    }
   ],
   "source": [
    "ser\n",
    "print(ser.str[0:4])\n",
    "\n",
    "print(ser.str[::-1])\n",
    "\n"
   ]
  },
  {
   "cell_type": "code",
   "execution_count": 10,
   "id": "b9ad6ddb-e6d1-4635-b33a-cfbfdcebc142",
   "metadata": {},
   "outputs": [
    {
     "name": "stdout",
     "output_type": "stream",
     "text": [
      "First      False\n",
      " Second     True\n",
      " Third     False\n",
      "Fourth     False\n",
      "dtype: bool\n",
      "\n"
     ]
    },
    {
     "data": {
      "text/plain": [
       "First       True\n",
       " Second     True\n",
       " Third     False\n",
       "Fourth       NaN\n",
       "dtype: object"
      ]
     },
     "execution_count": 10,
     "metadata": {},
     "output_type": "execute_result"
    }
   ],
   "source": [
    "print(ser.str.contains(\"B\", na=False) ) # ser dksdp \"A\" 문자가 있는지 검색\n",
    "print()\n",
    "ser.str.contains(r\"[A|B][a-z]+\") # r - 정규표현식 regex, [A|B] - 첫 글자가 A 또는 B, [a-z] - 두 번째 글자가 소문자, + 하나 이상"
   ]
  },
  {
   "cell_type": "code",
   "execution_count": null,
   "id": "cd13599f-0544-477f-8625-0e8c2a8ac07f",
   "metadata": {},
   "outputs": [],
   "source": [
    "import re\n",
    "pattern = \n",
    "ser.str.contains(r\"[A|B][a-z]+\") # r - 정규표현식 regex, [A|B] - 첫 글자가 A 또는 B, [a-z] - 두 번째 글자가 소문자, + 하나 이상\n"
   ]
  },
  {
   "cell_type": "code",
   "execution_count": 19,
   "id": "bd5a1327-054e-4afd-9ce7-0436c8c1887d",
   "metadata": {},
   "outputs": [
    {
     "data": {
      "text/html": [
       "<div>\n",
       "<style scoped>\n",
       "    .dataframe tbody tr th:only-of-type {\n",
       "        vertical-align: middle;\n",
       "    }\n",
       "\n",
       "    .dataframe tbody tr th {\n",
       "        vertical-align: top;\n",
       "    }\n",
       "\n",
       "    .dataframe thead th {\n",
       "        text-align: right;\n",
       "    }\n",
       "</style>\n",
       "<table border=\"1\" class=\"dataframe\">\n",
       "  <thead>\n",
       "    <tr style=\"text-align: right;\">\n",
       "      <th></th>\n",
       "      <th>0</th>\n",
       "    </tr>\n",
       "  </thead>\n",
       "  <tbody>\n",
       "    <tr>\n",
       "      <th>0</th>\n",
       "      <td>1</td>\n",
       "    </tr>\n",
       "    <tr>\n",
       "      <th>1</th>\n",
       "      <td>2</td>\n",
       "    </tr>\n",
       "    <tr>\n",
       "      <th>2</th>\n",
       "      <td>3</td>\n",
       "    </tr>\n",
       "    <tr>\n",
       "      <th>3</th>\n",
       "      <td>459</td>\n",
       "    </tr>\n",
       "    <tr>\n",
       "      <th>4</th>\n",
       "      <td>67</td>\n",
       "    </tr>\n",
       "    <tr>\n",
       "      <th>5</th>\n",
       "      <td>8</td>\n",
       "    </tr>\n",
       "  </tbody>\n",
       "</table>\n",
       "</div>"
      ],
      "text/plain": [
       "     0\n",
       "0    1\n",
       "1    2\n",
       "2    3\n",
       "3  459\n",
       "4   67\n",
       "5    8"
      ]
     },
     "execution_count": 19,
     "metadata": {},
     "output_type": "execute_result"
    }
   ],
   "source": [
    "# 숫자 추출하기\n",
    "ser3 = pd.Series(['a1','b2','c3','d4e5f9','e6f7','f8' ], dtype = \"string\" )\n",
    "digits = ser3.str.extractall(r\"(\\d)\").groupby(level=0).agg(''.join)\n",
    "digits\n",
    "\n"
   ]
  },
  {
   "cell_type": "code",
   "execution_count": 28,
   "id": "76d2dd5d-0f5f-4b4d-b02a-6cf3f1bef7a4",
   "metadata": {},
   "outputs": [
    {
     "name": "stdout",
     "output_type": "stream",
     "text": [
      "         0\n",
      "  match   \n",
      "0 0      a\n",
      "1 0      b\n",
      "2 0      c\n",
      "3 0      d\n",
      "  1      e\n",
      "  2      f\n",
      "4 0      e\n",
      "  1      f\n",
      "5 0      f\n",
      "\n",
      "     0\n",
      "0    A\n",
      "1    B\n",
      "2    C\n",
      "3  DEF\n",
      "4   EF\n",
      "5    F\n"
     ]
    },
    {
     "data": {
      "text/html": [
       "<div>\n",
       "<style scoped>\n",
       "    .dataframe tbody tr th:only-of-type {\n",
       "        vertical-align: middle;\n",
       "    }\n",
       "\n",
       "    .dataframe tbody tr th {\n",
       "        vertical-align: top;\n",
       "    }\n",
       "\n",
       "    .dataframe thead th {\n",
       "        text-align: right;\n",
       "    }\n",
       "</style>\n",
       "<table border=\"1\" class=\"dataframe\">\n",
       "  <thead>\n",
       "    <tr style=\"text-align: right;\">\n",
       "      <th></th>\n",
       "      <th>0</th>\n",
       "    </tr>\n",
       "  </thead>\n",
       "  <tbody>\n",
       "    <tr>\n",
       "      <th>0</th>\n",
       "      <td>가</td>\n",
       "    </tr>\n",
       "    <tr>\n",
       "      <th>1</th>\n",
       "      <td>나</td>\n",
       "    </tr>\n",
       "    <tr>\n",
       "      <th>2</th>\n",
       "      <td>다</td>\n",
       "    </tr>\n",
       "    <tr>\n",
       "      <th>3</th>\n",
       "      <td>라마바</td>\n",
       "    </tr>\n",
       "    <tr>\n",
       "      <th>4</th>\n",
       "      <td>바사</td>\n",
       "    </tr>\n",
       "    <tr>\n",
       "      <th>5</th>\n",
       "      <td>사</td>\n",
       "    </tr>\n",
       "  </tbody>\n",
       "</table>\n",
       "</div>"
      ],
      "text/plain": [
       "     0\n",
       "0    가\n",
       "1    나\n",
       "2    다\n",
       "3  라마바\n",
       "4   바사\n",
       "5    사"
      ]
     },
     "execution_count": 28,
     "metadata": {},
     "output_type": "execute_result"
    }
   ],
   "source": [
    "# 영문자 소문자 추출하기\n",
    "print(ser3.str.extractall(r\"([a-z])\"))\n",
    "\n",
    "print()\n",
    "letters = ser3.str.extractall(r\"([a-z])\").groupby(level=0).agg(''.join)\n",
    "letters\n",
    "\n",
    "# 대문자 추출하기\n",
    "ser4 = pd.Series(['A1','B2','C3','D4E5F9','E6F7', 'F8'], dtype=\"string\" )\n",
    "up = ser4.str.extractall(r\"([A-Z])\").groupby(level=0).agg(''.join)\n",
    "print(up)\n",
    "# 한글 추출하기\n",
    "ser5 = pd.Series(['가1','나2','다3','라4마5바9', '바6사7','사8'], dtype=\"string\")\n",
    "ko = ser5.str.extractall(r\"([가-힣])\").groupby(level=0).agg(''.join)\n",
    "ko\n"
   ]
  },
  {
   "cell_type": "code",
   "execution_count": 42,
   "id": "f7996087-49ee-479d-b8d5-522e2a282258",
   "metadata": {},
   "outputs": [
    {
     "name": "stdout",
     "output_type": "stream",
     "text": [
      "  문자 숫자\n",
      "0  a  1\n",
      "1  b  2\n",
      "2  c  3\n",
      "3  d  4\n",
      "4  e  6\n",
      "5  f  8\n",
      "  문자 숫자\n",
      "0  a  1\n",
      "1  b  2\n",
      "2  c  3\n",
      "3  d  4\n",
      "4  e  6\n",
      "5  f  8\n",
      "        문자 숫자\n",
      "  match      \n",
      "0 0      a  1\n",
      "1 0      b  2\n",
      "2 0      c  3\n",
      "3 0      d  4\n",
      "  1      e  5\n",
      "  2      f  9\n",
      "4 0      e  6\n",
      "  1      f  7\n",
      "5 0      f  8\n"
     ]
    },
    {
     "data": {
      "text/html": [
       "<div>\n",
       "<style scoped>\n",
       "    .dataframe tbody tr th:only-of-type {\n",
       "        vertical-align: middle;\n",
       "    }\n",
       "\n",
       "    .dataframe tbody tr th {\n",
       "        vertical-align: top;\n",
       "    }\n",
       "\n",
       "    .dataframe thead th {\n",
       "        text-align: right;\n",
       "    }\n",
       "</style>\n",
       "<table border=\"1\" class=\"dataframe\">\n",
       "  <thead>\n",
       "    <tr style=\"text-align: right;\">\n",
       "      <th></th>\n",
       "      <th>Letter</th>\n",
       "      <th>Digit</th>\n",
       "    </tr>\n",
       "  </thead>\n",
       "  <tbody>\n",
       "    <tr>\n",
       "      <th>0</th>\n",
       "      <td>a</td>\n",
       "      <td>1</td>\n",
       "    </tr>\n",
       "    <tr>\n",
       "      <th>1</th>\n",
       "      <td>b</td>\n",
       "      <td>2</td>\n",
       "    </tr>\n",
       "    <tr>\n",
       "      <th>2</th>\n",
       "      <td>c</td>\n",
       "      <td>3</td>\n",
       "    </tr>\n",
       "    <tr>\n",
       "      <th>3</th>\n",
       "      <td>def</td>\n",
       "      <td>459</td>\n",
       "    </tr>\n",
       "    <tr>\n",
       "      <th>4</th>\n",
       "      <td>ef</td>\n",
       "      <td>67</td>\n",
       "    </tr>\n",
       "    <tr>\n",
       "      <th>5</th>\n",
       "      <td>f</td>\n",
       "      <td>8</td>\n",
       "    </tr>\n",
       "  </tbody>\n",
       "</table>\n",
       "</div>"
      ],
      "text/plain": [
       "  Letter Digit\n",
       "0      a     1\n",
       "1      b     2\n",
       "2      c     3\n",
       "3    def   459\n",
       "4     ef    67\n",
       "5      f     8"
      ]
     },
     "execution_count": 42,
     "metadata": {},
     "output_type": "execute_result"
    }
   ],
   "source": [
    "ser3 = pd.Series(['a1','b2','c3','d4e5f9','e6f7','f8' ], dtype = \"string\" )\n",
    "\n",
    "# 숫자와 문자를 따로 분리해서\n",
    "split_columns = ser3.str.extract(r\"(?P<문자>[a-z]+)(?P<숫자>\\d+)\")\n",
    "print(split_columns)\n",
    "\n",
    "\n",
    "print(split_columns)\n",
    "split_columns = ser3.str.extractall(r\"(?P<문자>[a-z]+)(?P<숫자>\\d+)\")\n",
    "print(split_columns)\n",
    "\n",
    "split_columns = ser3.str.extractall(r\"(?P<Letter>[a-z]+)(?P<Digit>\\d+)\").groupby(level=0).agg(''.join)\n",
    "split_columns"
   ]
  },
  {
   "cell_type": "code",
   "execution_count": null,
   "id": "955e0677-44f8-4535-8848-2556be65a7d7",
   "metadata": {},
   "outputs": [],
   "source": []
  }
 ],
 "metadata": {
  "kernelspec": {
   "display_name": "ai",
   "language": "python",
   "name": "ai"
  },
  "language_info": {
   "codemirror_mode": {
    "name": "ipython",
    "version": 3
   },
   "file_extension": ".py",
   "mimetype": "text/x-python",
   "name": "python",
   "nbconvert_exporter": "python",
   "pygments_lexer": "ipython3",
   "version": "3.10.16"
  }
 },
 "nbformat": 4,
 "nbformat_minor": 5
}
