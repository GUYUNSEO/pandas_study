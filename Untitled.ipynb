{
 "cells": [
  {
   "cell_type": "markdown",
   "id": "69e32936-c8cc-4897-9492-491ced65c5b4",
   "metadata": {},
   "source": [
    "# 판다스 용도\n",
    "## 데이터 수집과 정리를 하는 역할\n",
    "# 자료 형식\n",
    "## 시리즈, 데이터 프레임\n",
    "# 판다스 목적\n",
    "## 서로 다른 여러가지 유형의 데이터를 공통인 포맷으로 정리하는 것"
   ]
  },
  {
   "cell_type": "markdown",
   "id": "0e97c614-527e-4912-aee1-ac9d283abc32",
   "metadata": {},
   "source": [
    "1. 시리즈\n",
    "   1.1 1차원 배열\n",
    "   1.2 리스트, 튜플, 딕셔너리를 시리즈로 만들 수 있다. pd.Series()\n",
    "   1.3 리스트, 튜플은 index를 지정하지 않으면 0,1,2... 이런 식으로 만들어진다.\n",
    "   1.4 딕셔너리는 key는 index, value는 data가 된다."
   ]
  },
  {
   "cell_type": "code",
   "execution_count": 1,
   "id": "da0269d2-abb8-475d-91fc-d6306bd3a4b0",
   "metadata": {},
   "outputs": [
    {
     "name": "stdout",
     "output_type": "stream",
     "text": [
      "a    1\n",
      "b    2\n",
      "c    3\n",
      "dtype: int64\n"
     ]
    }
   ],
   "source": [
    "import pandas as pd\n",
    "dict_data = {'a':1, 'b':2, 'c':3 }\n",
    "sr=pd.Series(dict_data)\n",
    "print(sr)"
   ]
  },
  {
   "cell_type": "code",
   "execution_count": 2,
   "id": "2c46fa51-e959-483a-a4d0-204e33a03378",
   "metadata": {},
   "outputs": [
    {
     "name": "stdout",
     "output_type": "stream",
     "text": [
      "[10, 20, 30, 40, 50, 60, 70, 80, 90, 100]\n"
     ]
    }
   ],
   "source": [
    "list_data = list(range(10,101,10))\n",
    "print(list_data)"
   ]
  },
  {
   "cell_type": "code",
   "execution_count": 3,
   "id": "5f586632-71ed-4b3d-af91-9b40313de56d",
   "metadata": {},
   "outputs": [
    {
     "name": "stdout",
     "output_type": "stream",
     "text": [
      "[10, 20, 30, 40, 50, 60, 70, 80, 90, 100]\n",
      "0     10\n",
      "1     20\n",
      "2     30\n",
      "3     40\n",
      "4     50\n",
      "5     60\n",
      "6     70\n",
      "7     80\n",
      "8     90\n",
      "9    100\n",
      "dtype: int64\n"
     ]
    }
   ],
   "source": [
    "# 리스트 자료를 시리즈로 만들기\n",
    "import pandas as pd\n",
    "list_data = list(range(10,101,10))\n",
    "print(list_data)\n",
    "list_sr = pd.Series( list_data )\n",
    "print(list_sr)"
   ]
  },
  {
   "cell_type": "code",
   "execution_count": 4,
   "id": "4a8c71e1-6f59-4a6d-92d4-a6654d0f2617",
   "metadata": {},
   "outputs": [
    {
     "ename": "SyntaxError",
     "evalue": "closing parenthesis ')' does not match opening parenthesis '[' (3360041384.py, line 2)",
     "output_type": "error",
     "traceback": [
      "\u001b[1;36m  Cell \u001b[1;32mIn[4], line 2\u001b[1;36m\u001b[0m\n\u001b[1;33m    list_sr = pd.Series( list_data, index=[ 'a', )\u001b[0m\n\u001b[1;37m                                                 ^\u001b[0m\n\u001b[1;31mSyntaxError\u001b[0m\u001b[1;31m:\u001b[0m closing parenthesis ')' does not match opening parenthesis '['\n"
     ]
    }
   ],
   "source": [
    "# 리스트 자료를 시리즈로 만들기\n",
    "list_sr = pd.Series( list_data, index=[ 'a'  )\n",
    "print(list_sr)"
   ]
  },
  {
   "cell_type": "code",
   "execution_count": null,
   "id": "1eabf7ed-2ecd-4ef9-ab79-df1b4f99601d",
   "metadata": {},
   "outputs": [],
   "source": []
  },
  {
   "cell_type": "code",
   "execution_count": null,
   "id": "4c8f5d03-ab08-49c9-ab5b-d83a5b2ea066",
   "metadata": {},
   "outputs": [],
   "source": []
  },
  {
   "cell_type": "code",
   "execution_count": null,
   "id": "25e2cd61-4068-4c81-b149-6e0ea66e0db5",
   "metadata": {},
   "outputs": [],
   "source": []
  }
 ],
 "metadata": {
  "kernelspec": {
   "display_name": "ai",
   "language": "python",
   "name": "ai"
  },
  "language_info": {
   "codemirror_mode": {
    "name": "ipython",
    "version": 3
   },
   "file_extension": ".py",
   "mimetype": "text/x-python",
   "name": "python",
   "nbconvert_exporter": "python",
   "pygments_lexer": "ipython3",
   "version": "3.10.16"
  }
 },
 "nbformat": 4,
 "nbformat_minor": 5
}
